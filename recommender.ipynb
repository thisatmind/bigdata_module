{
 "cells": [
  {
   "cell_type": "code",
   "execution_count": 1,
   "metadata": {
    "collapsed": false
   },
   "outputs": [
    {
     "data": {
      "text/plain": [
       "<pyspark.context.SparkContext at 0x7f484800b990>"
      ]
     },
     "execution_count": 1,
     "metadata": {},
     "output_type": "execute_result"
    }
   ],
   "source": [
    "sc"
   ]
  },
  {
   "cell_type": "code",
   "execution_count": 2,
   "metadata": {
    "collapsed": true
   },
   "outputs": [],
   "source": [
    "complete_dataset_url = 'http://files.grouplens.org/datasets/movielens/ml-latest.zip'\n",
    "small_dataset_url = 'http://files.grouplens.org/datasets/movielens/ml-latest-small.zip'"
   ]
  },
  {
   "cell_type": "code",
   "execution_count": 3,
   "metadata": {
    "collapsed": true
   },
   "outputs": [],
   "source": [
    "import os\n",
    "\n",
    "datasets_path = os.path.join('/home/hadoop', 'datasets')\n",
    "\n",
    "complete_dataset_path = os.path.join(datasets_path, 'ml-latest.zip')\n",
    "small_dataset_path = os.path.join(datasets_path, 'ml-latest-small.zip')"
   ]
  },
  {
   "cell_type": "code",
   "execution_count": 4,
   "metadata": {
    "collapsed": true
   },
   "outputs": [],
   "source": [
    "small_ratings_file = os.path.join(datasets_path, 'ml-latest-small', 'ratings.csv')\n",
    "\n",
    "small_ratings_raw_data = sc.textFile(small_ratings_file)\n",
    "small_ratings_raw_data_header = small_ratings_raw_data.take(1)[0]"
   ]
  },
  {
   "cell_type": "code",
   "execution_count": 5,
   "metadata": {
    "collapsed": true
   },
   "outputs": [],
   "source": [
    "small_ratings_data = small_ratings_raw_data.filter(lambda line: line!=small_ratings_raw_data_header)\\\n",
    "    .map(lambda line: line.split(\",\")).map(lambda tokens: (tokens[0],tokens[1],tokens[2])).cache()"
   ]
  },
  {
   "cell_type": "code",
   "execution_count": 6,
   "metadata": {
    "collapsed": true
   },
   "outputs": [],
   "source": [
    "small_ratings_data = small_ratings_raw_data.filter(lambda line: line!=small_ratings_raw_data_header)\\\n",
    "    .map(lambda line: line.split(\",\")).map(lambda tokens: (tokens[0],tokens[1],tokens[2])).cache()"
   ]
  },
  {
   "cell_type": "code",
   "execution_count": 7,
   "metadata": {
    "collapsed": false
   },
   "outputs": [
    {
     "data": {
      "text/plain": [
       "[(u'1', u'Toy Story (1995)'),\n",
       " (u'2', u'Jumanji (1995)'),\n",
       " (u'3', u'Grumpier Old Men (1995)')]"
      ]
     },
     "execution_count": 7,
     "metadata": {},
     "output_type": "execute_result"
    }
   ],
   "source": [
    "small_movies_file = os.path.join(datasets_path, 'ml-latest-small', 'movies.csv')\n",
    "\n",
    "small_movies_raw_data = sc.textFile(small_movies_file)\n",
    "small_movies_raw_data_header = small_movies_raw_data.take(1)[0]\n",
    "\n",
    "small_movies_data = small_movies_raw_data.filter(lambda line: line!=small_movies_raw_data_header)\\\n",
    "    .map(lambda line: line.split(\",\")).map(lambda tokens: (tokens[0],tokens[1])).cache()\n",
    "    \n",
    "small_movies_data.take(3)"
   ]
  },
  {
   "cell_type": "code",
   "execution_count": 8,
   "metadata": {
    "collapsed": true
   },
   "outputs": [],
   "source": [
    "training_RDD, validation_RDD, test_RDD = small_ratings_data.randomSplit([6, 2, 2], seed=0L)"
   ]
  },
  {
   "cell_type": "code",
   "execution_count": 9,
   "metadata": {
    "collapsed": true
   },
   "outputs": [],
   "source": [
    "validation_for_predict_RDD = validation_RDD.map(lambda x: (x[0], x[1]))\n",
    "test_for_predict_RDD = test_RDD.map(lambda x: (x[0], x[1]))"
   ]
  },
  {
   "cell_type": "code",
   "execution_count": 11,
   "metadata": {
    "collapsed": false
   },
   "outputs": [
    {
     "name": "stdout",
     "output_type": "stream",
     "text": [
      "For rank 2 the RMSE is 0.891838015497\n",
      "For rank 3 the RMSE is 0.91226920527\n",
      "For rank 4 the RMSE is 0.919837162894\n",
      "For rank 5 the RMSE is 0.923499064446\n",
      "For rank 6 the RMSE is 0.925583764558\n",
      "For rank 7 the RMSE is 0.92142359505\n",
      "For rank 8 the RMSE is 0.922943984919\n",
      "The best model was trained with rank 2\n"
     ]
    }
   ],
   "source": [
    "from pyspark.mllib.recommendation import ALS\n",
    "import math\n",
    "\n",
    "seed = 5L\n",
    "iterations = 10\n",
    "regularization_parameter = 0.1\n",
    "ranks = [2,3,4,5,6,7,8]\n",
    "errors = [0, 0, 0,0,0,0,0]\n",
    "err = 0\n",
    "tolerance = 0.02\n",
    "\n",
    "min_error = float('inf')\n",
    "best_rank = -1\n",
    "best_iteration = -1\n",
    "for rank in ranks:\n",
    "    model = ALS.train(training_RDD, rank, seed=seed, iterations=iterations,\n",
    "                      lambda_=regularization_parameter)\n",
    "    predictions = model.predictAll(validation_for_predict_RDD).map(lambda r: ((r[0], r[1]), r[2]))\n",
    "    rates_and_preds = validation_RDD.map(lambda r: ((int(r[0]), int(r[1])), float(r[2]))).join(predictions)\n",
    "    error = math.sqrt(rates_and_preds.map(lambda r: (r[1][0] - r[1][1])**2).mean())\n",
    "    errors[err] = error\n",
    "    err += 1\n",
    "    print 'For rank %s the RMSE is %s' % (rank, error)\n",
    "    if error < min_error:\n",
    "        min_error = error\n",
    "        best_rank = rank\n",
    "\n",
    "print 'The best model was trained with rank %s' % best_rank"
   ]
  },
  {
   "cell_type": "code",
   "execution_count": 12,
   "metadata": {
    "collapsed": false
   },
   "outputs": [
    {
     "data": {
      "text/plain": [
       "[((475, 81132), 1.0111110131458738),\n",
       " ((469, 667), 3.010087433076958),\n",
       " ((181, 667), 3.026865156809132)]"
      ]
     },
     "execution_count": 12,
     "metadata": {},
     "output_type": "execute_result"
    }
   ],
   "source": [
    "#475유저가 81132 아이템을 0.986만큼 좋아한다 예상\n",
    "predictions.take(3)"
   ]
  },
  {
   "cell_type": "code",
   "execution_count": 13,
   "metadata": {
    "collapsed": false
   },
   "outputs": [
    {
     "data": {
      "text/plain": [
       "[((627, 30793), (3.5, 3.3268493830258086)),\n",
       " ((668, 4030), (1.5, 1.4424904872145103)),\n",
       " ((332, 2528), (4.0, 4.417437227921642))]"
      ]
     },
     "execution_count": 13,
     "metadata": {},
     "output_type": "execute_result"
    }
   ],
   "source": [
    "#627유저가 30793을 3.5만큼 좋안한다했는데 3.14 로 예상함\n",
    "rates_and_preds.take(3)"
   ]
  },
  {
   "cell_type": "code",
   "execution_count": 14,
   "metadata": {
    "collapsed": false
   },
   "outputs": [
    {
     "name": "stdout",
     "output_type": "stream",
     "text": [
      "For testing data the RMSE is 0.898908775676\n"
     ]
    }
   ],
   "source": [
    "model = ALS.train(training_RDD, best_rank, seed=seed, iterations=iterations,\n",
    "                      lambda_=regularization_parameter)\n",
    "predictions = model.predictAll(test_for_predict_RDD).map(lambda r: ((r[0], r[1]), r[2]))\n",
    "rates_and_preds = test_RDD.map(lambda r: ((int(r[0]), int(r[1])), float(r[2]))).join(predictions)\n",
    "error = math.sqrt(rates_and_preds.map(lambda r: (r[1][0] - r[1][1])**2).mean())\n",
    "    \n",
    "print 'For testing data the RMSE is %s' % (error)"
   ]
  },
  {
   "cell_type": "code",
   "execution_count": 15,
   "metadata": {
    "collapsed": false
   },
   "outputs": [
    {
     "name": "stdout",
     "output_type": "stream",
     "text": [
      "Warning: /home/hadoop/sqoop/../hbase does not exist! HBase imports will fail.\n",
      "Please set $HBASE_HOME to the root of your HBase installation.\n",
      "Warning: /home/hadoop/sqoop/../hcatalog does not exist! HCatalog jobs will fail.\n",
      "Please set $HCAT_HOME to the root of your HCatalog installation.\n",
      "Warning: /home/hadoop/sqoop/../accumulo does not exist! Accumulo imports will fail.\n",
      "Please set $ACCUMULO_HOME to the root of your Accumulo installation.\n",
      "Warning: /home/hadoop/sqoop/../zookeeper does not exist! Accumulo imports will fail.\n",
      "Please set $ZOOKEEPER_HOME to the root of your Zookeeper installation.\n",
      "16/10/04 18:58:32 INFO sqoop.Sqoop: Running Sqoop version: 1.4.6\n",
      "16/10/04 18:58:32 WARN sqoop.ConnFactory: Parameter --driver is set to an explicit driver however appropriate connection manager is not being set (via --connection-manager). Sqoop is going to fall back to org.apache.sqoop.manager.GenericJdbcManager. Please specify explicitly which connection manager should be used next time.\n",
      "16/10/04 18:58:32 INFO manager.SqlManager: Using default fetchSize of 1000\n",
      "16/10/04 18:58:32 INFO tool.CodeGenTool: Beginning code generation\n",
      "16/10/04 18:58:34 INFO manager.SqlManager: Executing SQL statement: SELECT t.* FROM normalized_app_log AS t WHERE 1=0\n",
      "16/10/04 18:58:34 INFO orm.CompilationManager: HADOOP_MAPRED_HOME is /home/hadoop/hadoop-2.7.1\n",
      "Note: /tmp/sqoop-hadoop/compile/6fc43f6f5430dec7fcbaa4a4e5aaa3ac/normalized_app_log.java uses or overrides a deprecated API.\n",
      "Note: Recompile with -Xlint:deprecation for details.\n",
      "16/10/04 18:58:38 INFO orm.CompilationManager: Writing jar file: /tmp/sqoop-hadoop/compile/6fc43f6f5430dec7fcbaa4a4e5aaa3ac/normalized_app_log.jar\n",
      "16/10/04 18:58:38 INFO mapreduce.ImportJobBase: Beginning import of normalized_app_log\n",
      "16/10/04 18:58:39 INFO Configuration.deprecation: mapred.jar is deprecated. Instead, use mapreduce.job.jar\n",
      "16/10/04 18:58:40 INFO Configuration.deprecation: mapred.job.tracker is deprecated. Instead, use mapreduce.jobtracker.address\n",
      "16/10/04 18:58:40 INFO Configuration.deprecation: session.id is deprecated. Instead, use dfs.metrics.session-id\n",
      "16/10/04 18:58:40 INFO jvm.JvmMetrics: Initializing JVM Metrics with processName=JobTracker, sessionId=\n",
      "16/10/04 18:58:41 INFO db.DBInputFormat: Using read commited transaction isolation\n",
      "16/10/04 18:58:41 INFO mapreduce.JobSubmitter: number of splits:1\n",
      "16/10/04 18:58:41 INFO mapreduce.JobSubmitter: Submitting tokens for job: job_local543549357_0001\n",
      "16/10/04 18:58:42 WARN util.MRApps: cache file (mapreduce.job.cache.files) file://null/home/hadoop/sqoop/lib/mysql-connector-java-5.1.39-bin.jar conflicts with cache file (mapreduce.job.cache.files) file://null/home/hadoop/sqoop-1.4.6.bin__hadoop-2.0.4-alpha/lib/mysql-connector-java-5.1.39-bin.jar This will be an error in Hadoop 2.0\n",
      "16/10/04 18:58:43 INFO mapred.LocalDistributedCacheManager: Creating symlink: /home/hadoop/data/mapred/local/1475575122278/hsqldb-1.8.0.10.jar <- /home/hadoop/hsqldb-1.8.0.10.jar\n",
      "16/10/04 18:58:43 INFO mapred.LocalDistributedCacheManager: Localized file:/home/hadoop/sqoop/lib/hsqldb-1.8.0.10.jar as file:/home/hadoop/data/mapred/local/1475575122278/hsqldb-1.8.0.10.jar\n",
      "16/10/04 18:58:43 INFO mapred.LocalDistributedCacheManager: Creating symlink: /home/hadoop/data/mapred/local/1475575122279/mysql-connector-java-5.1.39-bin.jar <- /home/hadoop/mysql-connector-java-5.1.39-bin.jar\n",
      "16/10/04 18:58:43 INFO mapred.LocalDistributedCacheManager: Localized file:/home/hadoop/sqoop/lib/mysql-connector-java-5.1.39-bin.jar as file:/home/hadoop/data/mapred/local/1475575122279/mysql-connector-java-5.1.39-bin.jar\n",
      "16/10/04 18:58:43 INFO mapred.LocalDistributedCacheManager: Creating symlink: /home/hadoop/data/mapred/local/1475575122280/parquet-common-1.4.1.jar <- /home/hadoop/parquet-common-1.4.1.jar\n",
      "16/10/04 18:58:43 INFO mapred.LocalDistributedCacheManager: Localized file:/home/hadoop/sqoop/lib/parquet-common-1.4.1.jar as file:/home/hadoop/data/mapred/local/1475575122280/parquet-common-1.4.1.jar\n",
      "16/10/04 18:58:43 INFO mapred.LocalDistributedCacheManager: Creating symlink: /home/hadoop/data/mapred/local/1475575122281/parquet-avro-1.4.1.jar <- /home/hadoop/parquet-avro-1.4.1.jar\n",
      "16/10/04 18:58:43 INFO mapred.LocalDistributedCacheManager: Localized file:/home/hadoop/sqoop/lib/parquet-avro-1.4.1.jar as file:/home/hadoop/data/mapred/local/1475575122281/parquet-avro-1.4.1.jar\n",
      "16/10/04 18:58:43 INFO mapred.LocalDistributedCacheManager: Creating symlink: /home/hadoop/data/mapred/local/1475575122282/commons-jexl-2.1.1.jar <- /home/hadoop/commons-jexl-2.1.1.jar\n",
      "16/10/04 18:58:43 INFO mapred.LocalDistributedCacheManager: Localized file:/home/hadoop/sqoop/lib/commons-jexl-2.1.1.jar as file:/home/hadoop/data/mapred/local/1475575122282/commons-jexl-2.1.1.jar\n",
      "16/10/04 18:58:43 INFO mapred.LocalDistributedCacheManager: Creating symlink: /home/hadoop/data/mapred/local/1475575122283/kite-hadoop-compatibility-1.0.0.jar <- /home/hadoop/kite-hadoop-compatibility-1.0.0.jar\n",
      "16/10/04 18:58:44 INFO mapred.LocalDistributedCacheManager: Localized file:/home/hadoop/sqoop/lib/kite-hadoop-compatibility-1.0.0.jar as file:/home/hadoop/data/mapred/local/1475575122283/kite-hadoop-compatibility-1.0.0.jar\n",
      "16/10/04 18:58:44 INFO mapred.LocalDistributedCacheManager: Creating symlink: /home/hadoop/data/mapred/local/1475575122284/parquet-encoding-1.4.1.jar <- /home/hadoop/parquet-encoding-1.4.1.jar\n",
      "16/10/04 18:58:44 INFO mapred.LocalDistributedCacheManager: Localized file:/home/hadoop/sqoop/lib/parquet-encoding-1.4.1.jar as file:/home/hadoop/data/mapred/local/1475575122284/parquet-encoding-1.4.1.jar\n",
      "16/10/04 18:58:44 INFO mapred.LocalDistributedCacheManager: Creating symlink: /home/hadoop/data/mapred/local/1475575122285/parquet-jackson-1.4.1.jar <- /home/hadoop/parquet-jackson-1.4.1.jar\n",
      "16/10/04 18:58:44 INFO mapred.LocalDistributedCacheManager: Localized file:/home/hadoop/sqoop/lib/parquet-jackson-1.4.1.jar as file:/home/hadoop/data/mapred/local/1475575122285/parquet-jackson-1.4.1.jar\n",
      "16/10/04 18:58:44 INFO mapred.LocalDistributedCacheManager: Creating symlink: /home/hadoop/data/mapred/local/1475575122286/sqoop-1.4.6.jar <- /home/hadoop/sqoop-1.4.6.jar\n",
      "16/10/04 18:58:44 INFO mapred.LocalDistributedCacheManager: Localized file:/home/hadoop/sqoop-1.4.6.bin__hadoop-2.0.4-alpha/sqoop-1.4.6.jar as file:/home/hadoop/data/mapred/local/1475575122286/sqoop-1.4.6.jar\n",
      "16/10/04 18:58:44 INFO mapred.LocalDistributedCacheManager: Creating symlink: /home/hadoop/data/mapred/local/1475575122287/avro-1.7.5.jar <- /home/hadoop/avro-1.7.5.jar\n",
      "16/10/04 18:58:44 INFO mapred.LocalDistributedCacheManager: Localized file:/home/hadoop/sqoop/lib/avro-1.7.5.jar as file:/home/hadoop/data/mapred/local/1475575122287/avro-1.7.5.jar\n",
      "16/10/04 18:58:44 INFO mapred.LocalDistributedCacheManager: Creating symlink: /home/hadoop/data/mapred/local/1475575122288/jackson-core-2.3.1.jar <- /home/hadoop/jackson-core-2.3.1.jar\n",
      "16/10/04 18:58:44 INFO mapred.LocalDistributedCacheManager: Localized file:/home/hadoop/sqoop/lib/jackson-core-2.3.1.jar as file:/home/hadoop/data/mapred/local/1475575122288/jackson-core-2.3.1.jar\n",
      "16/10/04 18:58:44 INFO mapred.LocalDistributedCacheManager: Creating symlink: /home/hadoop/data/mapred/local/1475575122289/jackson-mapper-asl-1.9.13.jar <- /home/hadoop/jackson-mapper-asl-1.9.13.jar\n",
      "16/10/04 18:58:44 INFO mapred.LocalDistributedCacheManager: Localized file:/home/hadoop/sqoop/lib/jackson-mapper-asl-1.9.13.jar as file:/home/hadoop/data/mapred/local/1475575122289/jackson-mapper-asl-1.9.13.jar\n",
      "16/10/04 18:58:44 INFO mapred.LocalDistributedCacheManager: Creating symlink: /home/hadoop/data/mapred/local/1475575122290/kite-data-hive-1.0.0.jar <- /home/hadoop/kite-data-hive-1.0.0.jar\n",
      "16/10/04 18:58:44 INFO mapred.LocalDistributedCacheManager: Localized file:/home/hadoop/sqoop/lib/kite-data-hive-1.0.0.jar as file:/home/hadoop/data/mapred/local/1475575122290/kite-data-hive-1.0.0.jar\n",
      "16/10/04 18:58:44 INFO mapred.LocalDistributedCacheManager: Creating symlink: /home/hadoop/data/mapred/local/1475575122291/opencsv-2.3.jar <- /home/hadoop/opencsv-2.3.jar\n",
      "16/10/04 18:58:44 INFO mapred.LocalDistributedCacheManager: Localized file:/home/hadoop/sqoop/lib/opencsv-2.3.jar as file:/home/hadoop/data/mapred/local/1475575122291/opencsv-2.3.jar\n",
      "16/10/04 18:58:44 INFO mapred.LocalDistributedCacheManager: Creating symlink: /home/hadoop/data/mapred/local/1475575122292/avro-mapred-1.7.5-hadoop2.jar <- /home/hadoop/avro-mapred-1.7.5-hadoop2.jar\n",
      "16/10/04 18:58:44 INFO mapred.LocalDistributedCacheManager: Localized file:/home/hadoop/sqoop/lib/avro-mapred-1.7.5-hadoop2.jar as file:/home/hadoop/data/mapred/local/1475575122292/avro-mapred-1.7.5-hadoop2.jar\n",
      "16/10/04 18:58:44 INFO mapred.LocalDistributedCacheManager: Creating symlink: /home/hadoop/data/mapred/local/1475575122293/parquet-format-2.0.0.jar <- /home/hadoop/parquet-format-2.0.0.jar\n",
      "16/10/04 18:58:44 INFO mapred.LocalDistributedCacheManager: Localized file:/home/hadoop/sqoop/lib/parquet-format-2.0.0.jar as file:/home/hadoop/data/mapred/local/1475575122293/parquet-format-2.0.0.jar\n",
      "16/10/04 18:58:44 INFO mapred.LocalDistributedCacheManager: Creating symlink: /home/hadoop/data/mapred/local/1475575122294/slf4j-api-1.6.1.jar <- /home/hadoop/slf4j-api-1.6.1.jar\n",
      "16/10/04 18:58:44 INFO mapred.LocalDistributedCacheManager: Localized file:/home/hadoop/sqoop/lib/slf4j-api-1.6.1.jar as file:/home/hadoop/data/mapred/local/1475575122294/slf4j-api-1.6.1.jar\n",
      "16/10/04 18:58:44 INFO mapred.LocalDistributedCacheManager: Creating symlink: /home/hadoop/data/mapred/local/1475575122295/jackson-databind-2.3.1.jar <- /home/hadoop/jackson-databind-2.3.1.jar\n",
      "16/10/04 18:58:44 INFO mapred.LocalDistributedCacheManager: Localized file:/home/hadoop/sqoop/lib/jackson-databind-2.3.1.jar as file:/home/hadoop/data/mapred/local/1475575122295/jackson-databind-2.3.1.jar\n",
      "16/10/04 18:58:44 INFO mapred.LocalDistributedCacheManager: Creating symlink: /home/hadoop/data/mapred/local/1475575122296/kite-data-core-1.0.0.jar <- /home/hadoop/kite-data-core-1.0.0.jar\n",
      "16/10/04 18:58:44 INFO mapred.LocalDistributedCacheManager: Localized file:/home/hadoop/sqoop/lib/kite-data-core-1.0.0.jar as file:/home/hadoop/data/mapred/local/1475575122296/kite-data-core-1.0.0.jar\n",
      "16/10/04 18:58:44 INFO mapred.LocalDistributedCacheManager: Creating symlink: /home/hadoop/data/mapred/local/1475575122297/ant-contrib-1.0b3.jar <- /home/hadoop/ant-contrib-1.0b3.jar\n",
      "16/10/04 18:58:44 INFO mapred.LocalDistributedCacheManager: Localized file:/home/hadoop/sqoop/lib/ant-contrib-1.0b3.jar as file:/home/hadoop/data/mapred/local/1475575122297/ant-contrib-1.0b3.jar\n",
      "16/10/04 18:58:44 INFO mapred.LocalDistributedCacheManager: Creating symlink: /home/hadoop/data/mapred/local/1475575122298/jackson-core-asl-1.9.13.jar <- /home/hadoop/jackson-core-asl-1.9.13.jar\n",
      "16/10/04 18:58:44 INFO mapred.LocalDistributedCacheManager: Localized file:/home/hadoop/sqoop/lib/jackson-core-asl-1.9.13.jar as file:/home/hadoop/data/mapred/local/1475575122298/jackson-core-asl-1.9.13.jar\n",
      "16/10/04 18:58:44 INFO mapred.LocalDistributedCacheManager: Creating symlink: /home/hadoop/data/mapred/local/1475575122299/ant-eclipse-1.0-jvm1.2.jar <- /home/hadoop/ant-eclipse-1.0-jvm1.2.jar\n",
      "16/10/04 18:58:44 INFO mapred.LocalDistributedCacheManager: Localized file:/home/hadoop/sqoop/lib/ant-eclipse-1.0-jvm1.2.jar as file:/home/hadoop/data/mapred/local/1475575122299/ant-eclipse-1.0-jvm1.2.jar\n",
      "16/10/04 18:58:44 INFO mapred.LocalDistributedCacheManager: Creating symlink: /home/hadoop/data/mapred/local/1475575122300/commons-compress-1.4.1.jar <- /home/hadoop/commons-compress-1.4.1.jar\n",
      "16/10/04 18:58:44 INFO mapred.LocalDistributedCacheManager: Localized file:/home/hadoop/sqoop/lib/commons-compress-1.4.1.jar as file:/home/hadoop/data/mapred/local/1475575122300/commons-compress-1.4.1.jar\n",
      "16/10/04 18:58:44 INFO mapred.LocalDistributedCacheManager: Creating symlink: /home/hadoop/data/mapred/local/1475575122301/parquet-hadoop-1.4.1.jar <- /home/hadoop/parquet-hadoop-1.4.1.jar\n",
      "16/10/04 18:58:44 INFO mapred.LocalDistributedCacheManager: Localized file:/home/hadoop/sqoop/lib/parquet-hadoop-1.4.1.jar as file:/home/hadoop/data/mapred/local/1475575122301/parquet-hadoop-1.4.1.jar\n",
      "16/10/04 18:58:44 INFO mapred.LocalDistributedCacheManager: Creating symlink: /home/hadoop/data/mapred/local/1475575122302/commons-codec-1.4.jar <- /home/hadoop/commons-codec-1.4.jar\n",
      "16/10/04 18:58:44 INFO mapred.LocalDistributedCacheManager: Localized file:/home/hadoop/sqoop/lib/commons-codec-1.4.jar as file:/home/hadoop/data/mapred/local/1475575122302/commons-codec-1.4.jar\n",
      "16/10/04 18:58:44 INFO mapred.LocalDistributedCacheManager: Creating symlink: /home/hadoop/data/mapred/local/1475575122303/kite-data-mapreduce-1.0.0.jar <- /home/hadoop/kite-data-mapreduce-1.0.0.jar\n",
      "16/10/04 18:58:44 INFO mapred.LocalDistributedCacheManager: Localized file:/home/hadoop/sqoop/lib/kite-data-mapreduce-1.0.0.jar as file:/home/hadoop/data/mapred/local/1475575122303/kite-data-mapreduce-1.0.0.jar\n",
      "16/10/04 18:58:44 INFO mapred.LocalDistributedCacheManager: Creating symlink: /home/hadoop/data/mapred/local/1475575122304/jackson-annotations-2.3.0.jar <- /home/hadoop/jackson-annotations-2.3.0.jar\n",
      "16/10/04 18:58:44 INFO mapred.LocalDistributedCacheManager: Localized file:/home/hadoop/sqoop/lib/jackson-annotations-2.3.0.jar as file:/home/hadoop/data/mapred/local/1475575122304/jackson-annotations-2.3.0.jar\n",
      "16/10/04 18:58:44 INFO mapred.LocalDistributedCacheManager: Creating symlink: /home/hadoop/data/mapred/local/1475575122305/parquet-column-1.4.1.jar <- /home/hadoop/parquet-column-1.4.1.jar\n",
      "16/10/04 18:58:44 INFO mapred.LocalDistributedCacheManager: Localized file:/home/hadoop/sqoop/lib/parquet-column-1.4.1.jar as file:/home/hadoop/data/mapred/local/1475575122305/parquet-column-1.4.1.jar\n",
      "16/10/04 18:58:44 INFO mapred.LocalDistributedCacheManager: Creating symlink: /home/hadoop/data/mapred/local/1475575122306/commons-io-1.4.jar <- /home/hadoop/commons-io-1.4.jar\n",
      "16/10/04 18:58:44 INFO mapred.LocalDistributedCacheManager: Localized file:/home/hadoop/sqoop/lib/commons-io-1.4.jar as file:/home/hadoop/data/mapred/local/1475575122306/commons-io-1.4.jar\n",
      "16/10/04 18:58:44 INFO mapred.LocalDistributedCacheManager: Creating symlink: /home/hadoop/data/mapred/local/1475575122307/commons-logging-1.1.1.jar <- /home/hadoop/commons-logging-1.1.1.jar\n",
      "16/10/04 18:58:44 INFO mapred.LocalDistributedCacheManager: Localized file:/home/hadoop/sqoop/lib/commons-logging-1.1.1.jar as file:/home/hadoop/data/mapred/local/1475575122307/commons-logging-1.1.1.jar\n",
      "16/10/04 18:58:44 INFO mapred.LocalDistributedCacheManager: Creating symlink: /home/hadoop/data/mapred/local/1475575122308/paranamer-2.3.jar <- /home/hadoop/paranamer-2.3.jar\n",
      "16/10/04 18:58:44 INFO mapred.LocalDistributedCacheManager: Localized file:/home/hadoop/sqoop/lib/paranamer-2.3.jar as file:/home/hadoop/data/mapred/local/1475575122308/paranamer-2.3.jar\n",
      "16/10/04 18:58:44 INFO mapred.LocalDistributedCacheManager: Creating symlink: /home/hadoop/data/mapred/local/1475575122309/xz-1.0.jar <- /home/hadoop/xz-1.0.jar\n",
      "16/10/04 18:58:44 INFO mapred.LocalDistributedCacheManager: Localized file:/home/hadoop/sqoop/lib/xz-1.0.jar as file:/home/hadoop/data/mapred/local/1475575122309/xz-1.0.jar\n",
      "16/10/04 18:58:44 INFO mapred.LocalDistributedCacheManager: Creating symlink: /home/hadoop/data/mapred/local/1475575122310/parquet-generator-1.4.1.jar <- /home/hadoop/parquet-generator-1.4.1.jar\n",
      "16/10/04 18:58:44 INFO mapred.LocalDistributedCacheManager: Localized file:/home/hadoop/sqoop/lib/parquet-generator-1.4.1.jar as file:/home/hadoop/data/mapred/local/1475575122310/parquet-generator-1.4.1.jar\n",
      "16/10/04 18:58:44 INFO mapred.LocalDistributedCacheManager: Creating symlink: /home/hadoop/data/mapred/local/1475575122311/snappy-java-1.0.5.jar <- /home/hadoop/snappy-java-1.0.5.jar\n",
      "16/10/04 18:58:44 INFO mapred.LocalDistributedCacheManager: Localized file:/home/hadoop/sqoop/lib/snappy-java-1.0.5.jar as file:/home/hadoop/data/mapred/local/1475575122311/snappy-java-1.0.5.jar\n",
      "16/10/04 18:58:44 INFO mapred.LocalDistributedCacheManager: file:/home/hadoop/data/mapred/local/1475575122278/hsqldb-1.8.0.10.jar\n",
      "16/10/04 18:58:44 INFO mapred.LocalDistributedCacheManager: file:/home/hadoop/data/mapred/local/1475575122279/mysql-connector-java-5.1.39-bin.jar\n",
      "16/10/04 18:58:44 INFO mapred.LocalDistributedCacheManager: file:/home/hadoop/data/mapred/local/1475575122280/parquet-common-1.4.1.jar\n",
      "16/10/04 18:58:44 INFO mapred.LocalDistributedCacheManager: file:/home/hadoop/data/mapred/local/1475575122281/parquet-avro-1.4.1.jar\n",
      "16/10/04 18:58:44 INFO mapred.LocalDistributedCacheManager: file:/home/hadoop/data/mapred/local/1475575122282/commons-jexl-2.1.1.jar\n",
      "16/10/04 18:58:44 INFO mapred.LocalDistributedCacheManager: file:/home/hadoop/data/mapred/local/1475575122283/kite-hadoop-compatibility-1.0.0.jar\n",
      "16/10/04 18:58:44 INFO mapred.LocalDistributedCacheManager: file:/home/hadoop/data/mapred/local/1475575122284/parquet-encoding-1.4.1.jar\n",
      "16/10/04 18:58:44 INFO mapred.LocalDistributedCacheManager: file:/home/hadoop/data/mapred/local/1475575122285/parquet-jackson-1.4.1.jar\n",
      "16/10/04 18:58:44 INFO mapred.LocalDistributedCacheManager: file:/home/hadoop/data/mapred/local/1475575122286/sqoop-1.4.6.jar\n",
      "16/10/04 18:58:44 INFO mapred.LocalDistributedCacheManager: file:/home/hadoop/data/mapred/local/1475575122287/avro-1.7.5.jar\n",
      "16/10/04 18:58:44 INFO mapred.LocalDistributedCacheManager: file:/home/hadoop/data/mapred/local/1475575122288/jackson-core-2.3.1.jar\n",
      "16/10/04 18:58:44 INFO mapred.LocalDistributedCacheManager: file:/home/hadoop/data/mapred/local/1475575122289/jackson-mapper-asl-1.9.13.jar\n",
      "16/10/04 18:58:44 INFO mapred.LocalDistributedCacheManager: file:/home/hadoop/data/mapred/local/1475575122290/kite-data-hive-1.0.0.jar\n",
      "16/10/04 18:58:44 INFO mapred.LocalDistributedCacheManager: file:/home/hadoop/data/mapred/local/1475575122291/opencsv-2.3.jar\n",
      "16/10/04 18:58:44 INFO mapred.LocalDistributedCacheManager: file:/home/hadoop/data/mapred/local/1475575122292/avro-mapred-1.7.5-hadoop2.jar\n",
      "16/10/04 18:58:44 INFO mapred.LocalDistributedCacheManager: file:/home/hadoop/data/mapred/local/1475575122293/parquet-format-2.0.0.jar\n",
      "16/10/04 18:58:44 INFO mapred.LocalDistributedCacheManager: file:/home/hadoop/data/mapred/local/1475575122294/slf4j-api-1.6.1.jar\n",
      "16/10/04 18:58:44 INFO mapred.LocalDistributedCacheManager: file:/home/hadoop/data/mapred/local/1475575122295/jackson-databind-2.3.1.jar\n",
      "16/10/04 18:58:44 INFO mapred.LocalDistributedCacheManager: file:/home/hadoop/data/mapred/local/1475575122296/kite-data-core-1.0.0.jar\n",
      "16/10/04 18:58:44 INFO mapred.LocalDistributedCacheManager: file:/home/hadoop/data/mapred/local/1475575122297/ant-contrib-1.0b3.jar\n",
      "16/10/04 18:58:44 INFO mapred.LocalDistributedCacheManager: file:/home/hadoop/data/mapred/local/1475575122298/jackson-core-asl-1.9.13.jar\n",
      "16/10/04 18:58:44 INFO mapred.LocalDistributedCacheManager: file:/home/hadoop/data/mapred/local/1475575122299/ant-eclipse-1.0-jvm1.2.jar\n",
      "16/10/04 18:58:44 INFO mapred.LocalDistributedCacheManager: file:/home/hadoop/data/mapred/local/1475575122300/commons-compress-1.4.1.jar\n",
      "16/10/04 18:58:44 INFO mapred.LocalDistributedCacheManager: file:/home/hadoop/data/mapred/local/1475575122301/parquet-hadoop-1.4.1.jar\n",
      "16/10/04 18:58:44 INFO mapred.LocalDistributedCacheManager: file:/home/hadoop/data/mapred/local/1475575122302/commons-codec-1.4.jar\n",
      "16/10/04 18:58:44 INFO mapred.LocalDistributedCacheManager: file:/home/hadoop/data/mapred/local/1475575122303/kite-data-mapreduce-1.0.0.jar\n",
      "16/10/04 18:58:44 INFO mapred.LocalDistributedCacheManager: file:/home/hadoop/data/mapred/local/1475575122304/jackson-annotations-2.3.0.jar\n",
      "16/10/04 18:58:44 INFO mapred.LocalDistributedCacheManager: file:/home/hadoop/data/mapred/local/1475575122305/parquet-column-1.4.1.jar\n",
      "16/10/04 18:58:44 INFO mapred.LocalDistributedCacheManager: file:/home/hadoop/data/mapred/local/1475575122306/commons-io-1.4.jar\n",
      "16/10/04 18:58:44 INFO mapred.LocalDistributedCacheManager: file:/home/hadoop/data/mapred/local/1475575122307/commons-logging-1.1.1.jar\n",
      "16/10/04 18:58:44 INFO mapred.LocalDistributedCacheManager: file:/home/hadoop/data/mapred/local/1475575122308/paranamer-2.3.jar\n",
      "16/10/04 18:58:44 INFO mapred.LocalDistributedCacheManager: file:/home/hadoop/data/mapred/local/1475575122309/xz-1.0.jar\n",
      "16/10/04 18:58:44 INFO mapred.LocalDistributedCacheManager: file:/home/hadoop/data/mapred/local/1475575122310/parquet-generator-1.4.1.jar\n",
      "16/10/04 18:58:44 INFO mapred.LocalDistributedCacheManager: file:/home/hadoop/data/mapred/local/1475575122311/snappy-java-1.0.5.jar\n",
      "16/10/04 18:58:44 INFO mapreduce.Job: The url to track the job: http://localhost:8080/\n",
      "16/10/04 18:58:44 INFO mapreduce.Job: Running job: job_local543549357_0001\n",
      "16/10/04 18:58:44 INFO mapred.LocalJobRunner: OutputCommitter set in config null\n",
      "16/10/04 18:58:44 INFO output.FileOutputCommitter: File Output Committer Algorithm version is 1\n",
      "16/10/04 18:58:44 INFO mapred.LocalJobRunner: OutputCommitter is org.apache.hadoop.mapreduce.lib.output.FileOutputCommitter\n",
      "16/10/04 18:58:44 INFO mapred.LocalJobRunner: Waiting for map tasks\n",
      "16/10/04 18:58:44 INFO mapred.LocalJobRunner: Starting task: attempt_local543549357_0001_m_000000_0\n",
      "16/10/04 18:58:44 INFO output.FileOutputCommitter: File Output Committer Algorithm version is 1\n",
      "16/10/04 18:58:44 INFO mapred.Task:  Using ResourceCalculatorProcessTree : [ ]\n",
      "16/10/04 18:58:44 INFO db.DBInputFormat: Using read commited transaction isolation\n",
      "16/10/04 18:58:44 INFO mapred.MapTask: Processing split: 1=1 AND 1=1\n",
      "16/10/04 18:58:45 INFO db.DBRecordReader: Working on split: 1=1 AND 1=1\n",
      "16/10/04 18:58:45 INFO db.DBRecordReader: Executing query: SELECT userId, packageId, rating FROM normalized_app_log AS normalized_app_log WHERE ( 1=1 ) AND ( 1=1 )\n",
      "16/10/04 18:58:45 INFO mapreduce.AutoProgressMapper: Auto-progress thread is finished. keepGoing=false\n",
      "16/10/04 18:58:45 INFO mapred.LocalJobRunner: \n",
      "16/10/04 18:58:45 INFO mapreduce.Job: Job job_local543549357_0001 running in uber mode : false\n",
      "16/10/04 18:58:45 INFO mapreduce.Job:  map 0% reduce 0%\n",
      "16/10/04 18:58:46 INFO mapred.Task: Task:attempt_local543549357_0001_m_000000_0 is done. And is in the process of committing\n",
      "16/10/04 18:58:46 INFO mapred.LocalJobRunner: \n",
      "16/10/04 18:58:46 INFO mapred.Task: Task attempt_local543549357_0001_m_000000_0 is allowed to commit now\n",
      "16/10/04 18:58:46 INFO output.FileOutputCommitter: Saved output of task 'attempt_local543549357_0001_m_000000_0' to hdfs://175.126.112.109:9010/input/result_datas/user_Id1/_temporary/0/task_local543549357_0001_m_000000\n",
      "16/10/04 18:58:46 INFO mapred.LocalJobRunner: map\n",
      "16/10/04 18:58:46 INFO mapred.Task: Task 'attempt_local543549357_0001_m_000000_0' done.\n",
      "16/10/04 18:58:46 INFO mapred.LocalJobRunner: Finishing task: attempt_local543549357_0001_m_000000_0\n",
      "16/10/04 18:58:46 INFO mapred.LocalJobRunner: map task executor complete.\n",
      "16/10/04 18:58:47 INFO mapreduce.Job:  map 100% reduce 0%\n",
      "16/10/04 18:58:47 INFO mapreduce.Job: Job job_local543549357_0001 completed successfully\n",
      "16/10/04 18:58:47 INFO mapreduce.Job: Counters: 20\n",
      "\tFile System Counters\n",
      "\t\tFILE: Number of bytes read=18049968\n",
      "\t\tFILE: Number of bytes written=18488387\n",
      "\t\tFILE: Number of read operations=0\n",
      "\t\tFILE: Number of large read operations=0\n",
      "\t\tFILE: Number of write operations=0\n",
      "\t\tHDFS: Number of bytes read=0\n",
      "\t\tHDFS: Number of bytes written=150\n",
      "\t\tHDFS: Number of read operations=4\n",
      "\t\tHDFS: Number of large read operations=0\n",
      "\t\tHDFS: Number of write operations=3\n",
      "\tMap-Reduce Framework\n",
      "\t\tMap input records=7\n",
      "\t\tMap output records=7\n",
      "\t\tInput split bytes=87\n",
      "\t\tSpilled Records=0\n",
      "\t\tFailed Shuffles=0\n",
      "\t\tMerged Map outputs=0\n",
      "\t\tGC time elapsed (ms)=18\n",
      "\t\tTotal committed heap usage (bytes)=59789312\n",
      "\tFile Input Format Counters \n",
      "\t\tBytes Read=0\n",
      "\tFile Output Format Counters \n",
      "\t\tBytes Written=150\n",
      "16/10/04 18:58:47 INFO mapreduce.ImportJobBase: Transferred 150 bytes in 6.6745 seconds (22.4737 bytes/sec)\n",
      "16/10/04 18:58:47 INFO mapreduce.ImportJobBase: Retrieved 7 records.\n"
     ]
    }
   ],
   "source": [
    "!sqoop import --connect jdbc:mysql://localhost/appingpot_db --driver com.mysql.jdbc.Driver --table  normalized_app_log -m 1 --target-dir /input/result_datas/user_Id1 --columns userId,packageId,rating --input-fields-terminated-by ',' --input-lines-terminated-by \"\\n\"\n"
   ]
  },
  {
   "cell_type": "code",
   "execution_count": 16,
   "metadata": {
    "collapsed": false
   },
   "outputs": [
    {
     "name": "stdout",
     "output_type": "stream",
     "text": [
      "Found 2 items\r\n",
      "-rw-r--r--   1 hadoop supergroup          0 2016-10-04 18:58 /input/result_datas/user_Id1/_SUCCESS\r\n",
      "-rw-r--r--   1 hadoop supergroup        150 2016-10-04 18:58 /input/result_datas/user_Id1/part-m-00000\r\n"
     ]
    }
   ],
   "source": [
    "!hadoop fs -ls /input/result_datas/user_Id1"
   ]
  },
  {
   "cell_type": "code",
   "execution_count": 17,
   "metadata": {
    "collapsed": false
   },
   "outputs": [
    {
     "name": "stdout",
     "output_type": "stream",
     "text": [
      "1,12,0.77506297057399\r\n",
      "1,13,3.493399765920448\r\n",
      "1,14,0.0\r\n",
      "1,15,0.7862957672489755\r\n",
      "1,16,0.42122987531195116\r\n",
      "1,17,3.9033968445574136\r\n",
      "1,18,8.435830302914006\r\n"
     ]
    }
   ],
   "source": [
    "!hadoop fs -cat  /input/result_datas/user_Id1/part-m-00000"
   ]
  },
  {
   "cell_type": "code",
   "execution_count": 18,
   "metadata": {
    "collapsed": true
   },
   "outputs": [],
   "source": [
    "new_user_ID = 1\n",
    "new_user_ratings = sc.textFile(\"hdfs://175.126.112.109:9010/input/result_datas/user_Id1/part-m-00000\")"
   ]
  },
  {
   "cell_type": "code",
   "execution_count": 19,
   "metadata": {
    "collapsed": false
   },
   "outputs": [
    {
     "data": {
      "text/plain": [
       "[u'1,12,0.77506297057399',\n",
       " u'1,13,3.493399765920448',\n",
       " u'1,14,0.0',\n",
       " u'1,15,0.7862957672489755',\n",
       " u'1,16,0.42122987531195116']"
      ]
     },
     "execution_count": 19,
     "metadata": {},
     "output_type": "execute_result"
    }
   ],
   "source": [
    "new_user_ratings.take(5)"
   ]
  },
  {
   "cell_type": "code",
   "execution_count": 20,
   "metadata": {
    "collapsed": true
   },
   "outputs": [],
   "source": [
    "new_user_ratings_list=[x for x in new_user_ratings .toLocalIterator()]"
   ]
  },
  {
   "cell_type": "code",
   "execution_count": 21,
   "metadata": {
    "collapsed": false
   },
   "outputs": [
    {
     "data": {
      "text/plain": [
       "[u'1,12,0.77506297057399',\n",
       " u'1,13,3.493399765920448',\n",
       " u'1,14,0.0',\n",
       " u'1,15,0.7862957672489755',\n",
       " u'1,16,0.42122987531195116',\n",
       " u'1,17,3.9033968445574136',\n",
       " u'1,18,8.435830302914006']"
      ]
     },
     "execution_count": 21,
     "metadata": {},
     "output_type": "execute_result"
    }
   ],
   "source": [
    "new_user_ratings_list"
   ]
  },
  {
   "cell_type": "code",
   "execution_count": 22,
   "metadata": {
    "collapsed": true
   },
   "outputs": [],
   "source": [
    "new_user_ratings_list_tuple=[]\n",
    "\n",
    "for i in range(0,len(new_user_ratings_list)):\n",
    "    userId,packageId,ratings=new_user_ratings_list[i].split(',')\n",
    "    int(str(userId)),int(str(packageId)),float(str(ratings))\n",
    "    #(int)userId,(int)packageId,(float)ratings\n",
    "    new_user_ratings_list_tuple.append((int(str(userId)),int(str(packageId)),float(str(ratings))))\n",
    "    "
   ]
  },
  {
   "cell_type": "code",
   "execution_count": 23,
   "metadata": {
    "collapsed": false
   },
   "outputs": [
    {
     "name": "stdout",
     "output_type": "stream",
     "text": [
      "New user ratings: [(1, 12, 0.77506297057399), (1, 13, 3.493399765920448), (1, 14, 0.0), (1, 15, 0.7862957672489755), (1, 16, 0.42122987531195116), (1, 17, 3.9033968445574136), (1, 18, 8.435830302914006)]\n"
     ]
    }
   ],
   "source": [
    "#좌변은 기존에 있던 소스에 있던 변수명 우측은 내가 파싱하면서 만들어진 변수들\n",
    "new_user_ratings_RDD=sc.parallelize(new_user_ratings_list_tuple)\n",
    "new_user_ratings=new_user_ratings_list_tuple\n",
    "print 'New user ratings: %s' % new_user_ratings_RDD.take(10)"
   ]
  },
  {
   "cell_type": "code",
   "execution_count": 24,
   "metadata": {
    "collapsed": true
   },
   "outputs": [],
   "source": [
    "#기존 데이터셋에 새로운 유저의 정보추가.\n",
    "complete_data_with_new_ratings_RDD = training_RDD.union(new_user_ratings_RDD)"
   ]
  },
  {
   "cell_type": "code",
   "execution_count": 25,
   "metadata": {
    "collapsed": false
   },
   "outputs": [
    {
     "name": "stdout",
     "output_type": "stream",
     "text": [
      "New model trained in 3.604 seconds\n"
     ]
    }
   ],
   "source": [
    "#새로 추가된 모델 학습시키기.\n",
    "from time import time\n",
    "\n",
    "t0 = time()\n",
    "new_ratings_model = ALS.train(complete_data_with_new_ratings_RDD, best_rank, seed=seed, \n",
    "                              iterations=iterations, lambda_=regularization_parameter)\n",
    "tt = time() - t0\n",
    "\n",
    "print \"New model trained in %s seconds\" % round(tt,3)"
   ]
  },
  {
   "cell_type": "code",
   "execution_count": 26,
   "metadata": {
    "collapsed": true
   },
   "outputs": [],
   "source": [
    "new_user_ratings_ids = map(lambda x: x[1], new_user_ratings) # get just movie IDs of new User"
   ]
  },
  {
   "cell_type": "code",
   "execution_count": 27,
   "metadata": {
    "collapsed": false
   },
   "outputs": [
    {
     "data": {
      "text/plain": [
       "[12, 13, 14, 15, 16, 17, 18]"
      ]
     },
     "execution_count": 27,
     "metadata": {},
     "output_type": "execute_result"
    }
   ],
   "source": [
    "#새로운 유저가 매긴 영화의 id\n",
    "new_user_ratings_ids"
   ]
  },
  {
   "cell_type": "code",
   "execution_count": 28,
   "metadata": {
    "collapsed": false
   },
   "outputs": [
    {
     "name": "stdout",
     "output_type": "stream",
     "text": [
      "There are 10329 movies in the complete dataset\n"
     ]
    }
   ],
   "source": [
    "#영화데이터셋 만들기\n",
    "complete_movies_file = os.path.join(datasets_path, 'ml-latest-small', 'movies.csv')\n",
    "complete_movies_raw_data = sc.textFile(complete_movies_file)\n",
    "complete_movies_raw_data_header = complete_movies_raw_data.take(1)[0]\n",
    "\n",
    "# Parse\n",
    "complete_movies_data = complete_movies_raw_data.filter(lambda line: line!=complete_movies_raw_data_header)\\\n",
    "    .map(lambda line: line.split(\",\")).map(lambda tokens: (int(tokens[0]),tokens[1],tokens[2])).cache()\n",
    "\n",
    "complete_movies_titles = complete_movies_data.map(lambda x: (int(x[0]),x[1]))\n",
    "    \n",
    "print \"There are %s movies in the complete dataset\" % (complete_movies_titles.count())"
   ]
  },
  {
   "cell_type": "code",
   "execution_count": 33,
   "metadata": {
    "collapsed": true
   },
   "outputs": [],
   "source": [
    "# keep just those not on the ID list (thanks Lei Li for spotting the error!)\n",
    "#기존 영화데이터셋-새로운 user가 등록한 movieId 만들기\n",
    "new_user_unrated_movies_RDD = (complete_movies_data.filter(lambda x: x[0] not in new_user_ratings_ids).map(lambda x: (new_user_ID, x[0])))"
   ]
  },
  {
   "cell_type": "code",
   "execution_count": 34,
   "metadata": {
    "collapsed": false
   },
   "outputs": [
    {
     "data": {
      "text/plain": [
       "[(1, 1),\n",
       " (1, 2),\n",
       " (1, 3),\n",
       " (1, 4),\n",
       " (1, 5),\n",
       " (1, 6),\n",
       " (1, 7),\n",
       " (1, 8),\n",
       " (1, 9),\n",
       " (1, 10),\n",
       " (1, 11),\n",
       " (1, 19),\n",
       " (1, 20),\n",
       " (1, 21),\n",
       " (1, 22),\n",
       " (1, 23),\n",
       " (1, 24),\n",
       " (1, 25),\n",
       " (1, 26),\n",
       " (1, 27)]"
      ]
     },
     "execution_count": 34,
     "metadata": {},
     "output_type": "execute_result"
    }
   ],
   "source": [
    "new_user_unrated_movies_RDD.take(20)"
   ]
  },
  {
   "cell_type": "code",
   "execution_count": 35,
   "metadata": {
    "collapsed": true
   },
   "outputs": [],
   "source": [
    "#Getting top recommendations\n",
    "#위에서 했던거임...\n",
    "new_user_ratings_ids = map(lambda x: x[1], new_user_ratings) # get just movie IDs\n",
    "# keep just those not on the ID list (thanks Lei Li for spotting the error!)\n",
    "#새로운 유저가 매기지않은 영화id(기존영화데이터셋-새로운 유저가 매긴 영화 id)\n",
    "new_user_unrated_movies_RDD = (complete_movies_data.filter(lambda x: x[0] not in new_user_ratings_ids).map(lambda x: (new_user_ID, x[0])))\n",
    "\n",
    "# Use the input RDD, new_user_unrated_movies_RDD, with new_ratings_model.predictAll() to predict new ratings for the movies\n",
    "#추천!\n",
    "new_user_recommendations_RDD = new_ratings_model.predictAll(new_user_unrated_movies_RDD)"
   ]
  },
  {
   "cell_type": "code",
   "execution_count": 36,
   "metadata": {
    "collapsed": false
   },
   "outputs": [
    {
     "data": {
      "text/plain": [
       "[12, 13, 14, 15, 16, 17, 18]"
      ]
     },
     "execution_count": 36,
     "metadata": {},
     "output_type": "execute_result"
    }
   ],
   "source": [
    "new_user_ratings_ids"
   ]
  },
  {
   "cell_type": "code",
   "execution_count": 37,
   "metadata": {
    "collapsed": false
   },
   "outputs": [
    {
     "data": {
      "text/plain": [
       "[(1, 1),\n",
       " (1, 2),\n",
       " (1, 3),\n",
       " (1, 4),\n",
       " (1, 5),\n",
       " (1, 6),\n",
       " (1, 7),\n",
       " (1, 8),\n",
       " (1, 9),\n",
       " (1, 10)]"
      ]
     },
     "execution_count": 37,
     "metadata": {},
     "output_type": "execute_result"
    }
   ],
   "source": [
    "new_user_unrated_movies_RDD.take(10)"
   ]
  },
  {
   "cell_type": "code",
   "execution_count": 38,
   "metadata": {
    "collapsed": false
   },
   "outputs": [
    {
     "data": {
      "text/plain": [
       "[Rating(user=1, product=32196, rating=4.137270324524152),\n",
       " Rating(user=1, product=50447, rating=3.5757613584135868),\n",
       " Rating(user=1, product=68522, rating=4.195116873826848),\n",
       " Rating(user=1, product=91902, rating=3.5757613584135868),\n",
       " Rating(user=1, product=68482, rating=2.318599051953889),\n",
       " Rating(user=1, product=81132, rating=1.7878806792067934),\n",
       " Rating(user=1, product=667, rating=2.3420742613468377),\n",
       " Rating(user=1, product=44828, rating=3.0225204973933373),\n",
       " Rating(user=1, product=5618, rating=4.357870483097315),\n",
       " Rating(user=1, product=26169, rating=3.93454500970077)]"
      ]
     },
     "execution_count": 38,
     "metadata": {},
     "output_type": "execute_result"
    }
   ],
   "source": [
    "#새로 추가된 유저의 추천받은 데이터\n",
    "new_user_recommendations_RDD.take(10)"
   ]
  },
  {
   "cell_type": "code",
   "execution_count": 39,
   "metadata": {
    "collapsed": false
   },
   "outputs": [
    {
     "name": "stdout",
     "output_type": "stream",
     "text": [
      "TOP recommended movies (with more than 25 reviews):\n",
      "Rating(user=1, product=80969, rating=5.959602144033809)\n",
      "Rating(user=1, product=25961, rating=5.959602144033809)\n",
      "Rating(user=1, product=93040, rating=5.959602144033809)\n",
      "Rating(user=1, product=1085, rating=5.669256758309576)\n",
      "Rating(user=1, product=6476, rating=5.573796548833734)\n",
      "Rating(user=1, product=418, rating=5.527983933064579)\n",
      "Rating(user=1, product=3272, rating=5.378770900916798)\n",
      "Rating(user=1, product=84880, rating=5.363641928381249)\n",
      "Rating(user=1, product=3311, rating=5.363641928381249)\n",
      "Rating(user=1, product=1934, rating=5.363641928381249)\n",
      "Rating(user=1, product=127164, rating=5.363641928381249)\n",
      "Rating(user=1, product=114552, rating=5.363641928381249)\n",
      "Rating(user=1, product=113064, rating=5.363641928381249)\n",
      "Rating(user=1, product=31934, rating=5.363641928381249)\n",
      "Rating(user=1, product=80677, rating=5.363641928381249)\n",
      "Rating(user=1, product=48851, rating=5.363641928381249)\n",
      "Rating(user=1, product=26003, rating=5.363641928381249)\n",
      "Rating(user=1, product=41627, rating=5.363641928381249)\n",
      "Rating(user=1, product=7088, rating=5.363641928381249)\n",
      "Rating(user=1, product=79830, rating=5.363641928381249)\n",
      "Rating(user=1, product=97880, rating=5.363641928381249)\n",
      "Rating(user=1, product=4801, rating=5.363641928381249)\n",
      "Rating(user=1, product=88646, rating=5.363641928381249)\n",
      "Rating(user=1, product=70849, rating=5.363641928381249)\n",
      "Rating(user=1, product=31309, rating=5.363641928381249)\n"
     ]
    }
   ],
   "source": [
    "top_movies = new_user_recommendations_RDD.takeOrdered(25, key=lambda x: -x[2])\n",
    "\n",
    "print ('TOP recommended movies (with more than 25 reviews):\\n%s' %\n",
    "        '\\n'.join(map(str, top_movies)))"
   ]
  },
  {
   "cell_type": "code",
   "execution_count": 40,
   "metadata": {
    "collapsed": false
   },
   "outputs": [
    {
     "data": {
      "text/plain": [
       "[Rating(user=1, product=80969, rating=5.959602144033809),\n",
       " Rating(user=1, product=25961, rating=5.959602144033809),\n",
       " Rating(user=1, product=93040, rating=5.959602144033809),\n",
       " Rating(user=1, product=1085, rating=5.669256758309576),\n",
       " Rating(user=1, product=6476, rating=5.573796548833734),\n",
       " Rating(user=1, product=418, rating=5.527983933064579),\n",
       " Rating(user=1, product=3272, rating=5.378770900916798),\n",
       " Rating(user=1, product=84880, rating=5.363641928381249),\n",
       " Rating(user=1, product=3311, rating=5.363641928381249),\n",
       " Rating(user=1, product=1934, rating=5.363641928381249),\n",
       " Rating(user=1, product=127164, rating=5.363641928381249),\n",
       " Rating(user=1, product=114552, rating=5.363641928381249),\n",
       " Rating(user=1, product=113064, rating=5.363641928381249),\n",
       " Rating(user=1, product=31934, rating=5.363641928381249),\n",
       " Rating(user=1, product=80677, rating=5.363641928381249),\n",
       " Rating(user=1, product=48851, rating=5.363641928381249),\n",
       " Rating(user=1, product=26003, rating=5.363641928381249),\n",
       " Rating(user=1, product=41627, rating=5.363641928381249),\n",
       " Rating(user=1, product=7088, rating=5.363641928381249),\n",
       " Rating(user=1, product=79830, rating=5.363641928381249),\n",
       " Rating(user=1, product=97880, rating=5.363641928381249),\n",
       " Rating(user=1, product=4801, rating=5.363641928381249),\n",
       " Rating(user=1, product=88646, rating=5.363641928381249),\n",
       " Rating(user=1, product=70849, rating=5.363641928381249),\n",
       " Rating(user=1, product=31309, rating=5.363641928381249)]"
      ]
     },
     "execution_count": 40,
     "metadata": {},
     "output_type": "execute_result"
    }
   ],
   "source": [
    "top_movies"
   ]
  },
  {
   "cell_type": "code",
   "execution_count": 41,
   "metadata": {
    "collapsed": true
   },
   "outputs": [],
   "source": [
    "#defmy_functions\n",
    "user1_top_movies=sc.parallelize(top_movies)\n",
    "user1_top_movies_for_hdfs=user1_top_movies.map(lambda item : str(item.user)+\",\"+str(item.product)+\",\"+str(item.rating))"
   ]
  },
  {
   "cell_type": "code",
   "execution_count": 42,
   "metadata": {
    "collapsed": false
   },
   "outputs": [
    {
     "data": {
      "text/plain": [
       "['1,80969,5.95960214403',\n",
       " '1,25961,5.95960214403',\n",
       " '1,93040,5.95960214403',\n",
       " '1,1085,5.66925675831',\n",
       " '1,6476,5.57379654883',\n",
       " '1,418,5.52798393306',\n",
       " '1,3272,5.37877090092',\n",
       " '1,84880,5.36364192838',\n",
       " '1,3311,5.36364192838',\n",
       " '1,1934,5.36364192838']"
      ]
     },
     "execution_count": 42,
     "metadata": {},
     "output_type": "execute_result"
    }
   ],
   "source": [
    "user1_top_movies_for_hdfs.take(10)"
   ]
  },
  {
   "cell_type": "code",
   "execution_count": 44,
   "metadata": {
    "collapsed": false,
    "scrolled": true
   },
   "outputs": [],
   "source": [
    "#추천결과 HDFS저장\n",
    "user1_top_movies_for_hdfs.saveAsTextFile(\"hdfs://175.126.112.109:9010/output/result_datas/user_Id1\")"
   ]
  },
  {
   "cell_type": "code",
   "execution_count": 45,
   "metadata": {
    "collapsed": false
   },
   "outputs": [
    {
     "name": "stdout",
     "output_type": "stream",
     "text": [
      "Found 2 items\r\n",
      "-rw-r--r--   3 hadoop supergroup          0 2016-09-19 01:03 /output/result_datas/user1_result/_SUCCESS\r\n",
      "-rw-r--r--   3 hadoop supergroup        546 2016-09-19 01:03 /output/result_datas/user1_result/part-00000\r\n"
     ]
    }
   ],
   "source": [
    "# 잘 저장되었나 HDFS확인\n",
    "!hadoop fs -ls /output/result_datas/user1_result"
   ]
  },
  {
   "cell_type": "code",
   "execution_count": 47,
   "metadata": {
    "collapsed": false
   },
   "outputs": [
    {
     "name": "stdout",
     "output_type": "stream",
     "text": [
      "1,80969,5.85882072966\r\n",
      "1,25961,5.85882072966\r\n",
      "1,93040,5.85882072966\r\n",
      "1,6476,5.4538086172\r\n",
      "1,60503,5.30313013781\r\n",
      "1,3272,5.27759727811\r\n",
      "1,84880,5.27293871891\r\n",
      "1,3311,5.27293871891\r\n",
      "1,1934,5.27293871891\r\n",
      "1,127164,5.27293871891\r\n",
      "1,114552,5.27293871891\r\n",
      "1,113064,5.27293871891\r\n",
      "1,31934,5.27293871891\r\n",
      "1,80677,5.27293871891\r\n",
      "1,48851,5.27293871891\r\n",
      "1,26003,5.27293871891\r\n",
      "1,41627,5.27293871891\r\n",
      "1,7088,5.27293871891\r\n",
      "1,79830,5.27293871891\r\n",
      "1,97880,5.27293871891\r\n",
      "1,4801,5.27293871891\r\n",
      "1,88646,5.27293871891\r\n",
      "1,70849,5.27293871891\r\n",
      "1,31309,5.27293871891\r\n",
      "1,99912,5.27293871891\r\n"
     ]
    }
   ],
   "source": [
    "!hadoop fs -cat /output/result_datas/user1_result/part-00000"
   ]
  },
  {
   "cell_type": "code",
   "execution_count": 49,
   "metadata": {
    "collapsed": false
   },
   "outputs": [
    {
     "name": "stdout",
     "output_type": "stream",
     "text": [
      "Warning: /home/hadoop/sqoop/../hbase does not exist! HBase imports will fail.\n",
      "Please set $HBASE_HOME to the root of your HBase installation.\n",
      "Warning: /home/hadoop/sqoop/../hcatalog does not exist! HCatalog jobs will fail.\n",
      "Please set $HCAT_HOME to the root of your HCatalog installation.\n",
      "Warning: /home/hadoop/sqoop/../accumulo does not exist! Accumulo imports will fail.\n",
      "Please set $ACCUMULO_HOME to the root of your Accumulo installation.\n",
      "Warning: /home/hadoop/sqoop/../zookeeper does not exist! Accumulo imports will fail.\n",
      "Please set $ZOOKEEPER_HOME to the root of your Zookeeper installation.\n",
      "16/10/04 19:14:11 INFO sqoop.Sqoop: Running Sqoop version: 1.4.6\n",
      "16/10/04 19:14:11 WARN sqoop.ConnFactory: Parameter --driver is set to an explicit driver however appropriate connection manager is not being set (via --connection-manager). Sqoop is going to fall back to org.apache.sqoop.manager.GenericJdbcManager. Please specify explicitly which connection manager should be used next time.\n",
      "16/10/04 19:14:11 INFO manager.SqlManager: Using default fetchSize of 1000\n",
      "16/10/04 19:14:11 INFO tool.CodeGenTool: Beginning code generation\n",
      "16/10/04 19:14:12 INFO manager.SqlManager: Executing SQL statement: SELECT t.* FROM recommend_result AS t WHERE 1=0\n",
      "16/10/04 19:14:12 INFO orm.CompilationManager: HADOOP_MAPRED_HOME is /home/hadoop/hadoop-2.7.1\n",
      "Note: /tmp/sqoop-hadoop/compile/33df34777281a58e585f91b5118cad09/recommend_result.java uses or overrides a deprecated API.\n",
      "Note: Recompile with -Xlint:deprecation for details.\n",
      "16/10/04 19:14:15 INFO orm.CompilationManager: Writing jar file: /tmp/sqoop-hadoop/compile/33df34777281a58e585f91b5118cad09/recommend_result.jar\n",
      "16/10/04 19:14:15 INFO mapreduce.ExportJobBase: Beginning export of recommend_result\n",
      "16/10/04 19:14:15 INFO Configuration.deprecation: mapred.jar is deprecated. Instead, use mapreduce.job.jar\n",
      "16/10/04 19:14:17 INFO Configuration.deprecation: mapred.reduce.tasks.speculative.execution is deprecated. Instead, use mapreduce.reduce.speculative\n",
      "16/10/04 19:14:17 INFO Configuration.deprecation: mapred.map.tasks.speculative.execution is deprecated. Instead, use mapreduce.map.speculative\n",
      "16/10/04 19:14:17 INFO Configuration.deprecation: mapred.job.tracker is deprecated. Instead, use mapreduce.jobtracker.address\n",
      "16/10/04 19:14:17 INFO Configuration.deprecation: session.id is deprecated. Instead, use dfs.metrics.session-id\n",
      "16/10/04 19:14:17 INFO jvm.JvmMetrics: Initializing JVM Metrics with processName=JobTracker, sessionId=\n",
      "16/10/04 19:14:17 INFO input.FileInputFormat: Total input paths to process : 1\n",
      "16/10/04 19:14:17 INFO input.FileInputFormat: Total input paths to process : 1\n",
      "16/10/04 19:14:17 INFO mapreduce.JobSubmitter: number of splits:1\n",
      "16/10/04 19:14:17 INFO Configuration.deprecation: mapred.map.tasks.speculative.execution is deprecated. Instead, use mapreduce.map.speculative\n",
      "16/10/04 19:14:18 INFO mapreduce.JobSubmitter: Submitting tokens for job: job_local1005991073_0001\n",
      "16/10/04 19:14:18 WARN util.MRApps: cache file (mapreduce.job.cache.files) file://null/home/hadoop/sqoop/lib/mysql-connector-java-5.1.39-bin.jar conflicts with cache file (mapreduce.job.cache.files) file://null/home/hadoop/sqoop-1.4.6.bin__hadoop-2.0.4-alpha/lib/mysql-connector-java-5.1.39-bin.jar This will be an error in Hadoop 2.0\n",
      "16/10/04 19:14:19 INFO mapred.LocalDistributedCacheManager: Creating symlink: /home/hadoop/data/mapred/local/1475576058761/hsqldb-1.8.0.10.jar <- /home/hadoop/hsqldb-1.8.0.10.jar\n",
      "16/10/04 19:14:19 INFO mapred.LocalDistributedCacheManager: Localized file:/home/hadoop/sqoop/lib/hsqldb-1.8.0.10.jar as file:/home/hadoop/data/mapred/local/1475576058761/hsqldb-1.8.0.10.jar\n",
      "16/10/04 19:14:19 INFO mapred.LocalDistributedCacheManager: Creating symlink: /home/hadoop/data/mapred/local/1475576058762/mysql-connector-java-5.1.39-bin.jar <- /home/hadoop/mysql-connector-java-5.1.39-bin.jar\n",
      "16/10/04 19:14:19 INFO mapred.LocalDistributedCacheManager: Localized file:/home/hadoop/sqoop/lib/mysql-connector-java-5.1.39-bin.jar as file:/home/hadoop/data/mapred/local/1475576058762/mysql-connector-java-5.1.39-bin.jar\n",
      "16/10/04 19:14:20 INFO mapred.LocalDistributedCacheManager: Creating symlink: /home/hadoop/data/mapred/local/1475576058763/parquet-common-1.4.1.jar <- /home/hadoop/parquet-common-1.4.1.jar\n",
      "16/10/04 19:14:20 INFO mapred.LocalDistributedCacheManager: Localized file:/home/hadoop/sqoop/lib/parquet-common-1.4.1.jar as file:/home/hadoop/data/mapred/local/1475576058763/parquet-common-1.4.1.jar\n",
      "16/10/04 19:14:20 INFO mapred.LocalDistributedCacheManager: Creating symlink: /home/hadoop/data/mapred/local/1475576058764/parquet-avro-1.4.1.jar <- /home/hadoop/parquet-avro-1.4.1.jar\n",
      "16/10/04 19:14:20 INFO mapred.LocalDistributedCacheManager: Localized file:/home/hadoop/sqoop/lib/parquet-avro-1.4.1.jar as file:/home/hadoop/data/mapred/local/1475576058764/parquet-avro-1.4.1.jar\n",
      "16/10/04 19:14:20 INFO mapred.LocalDistributedCacheManager: Creating symlink: /home/hadoop/data/mapred/local/1475576058765/commons-jexl-2.1.1.jar <- /home/hadoop/commons-jexl-2.1.1.jar\n",
      "16/10/04 19:14:20 INFO mapred.LocalDistributedCacheManager: Localized file:/home/hadoop/sqoop/lib/commons-jexl-2.1.1.jar as file:/home/hadoop/data/mapred/local/1475576058765/commons-jexl-2.1.1.jar\n",
      "16/10/04 19:14:20 INFO mapred.LocalDistributedCacheManager: Creating symlink: /home/hadoop/data/mapred/local/1475576058766/kite-hadoop-compatibility-1.0.0.jar <- /home/hadoop/kite-hadoop-compatibility-1.0.0.jar\n",
      "16/10/04 19:14:20 INFO mapred.LocalDistributedCacheManager: Localized file:/home/hadoop/sqoop/lib/kite-hadoop-compatibility-1.0.0.jar as file:/home/hadoop/data/mapred/local/1475576058766/kite-hadoop-compatibility-1.0.0.jar\n",
      "16/10/04 19:14:20 INFO mapred.LocalDistributedCacheManager: Creating symlink: /home/hadoop/data/mapred/local/1475576058767/parquet-encoding-1.4.1.jar <- /home/hadoop/parquet-encoding-1.4.1.jar\n",
      "16/10/04 19:14:20 INFO mapred.LocalDistributedCacheManager: Localized file:/home/hadoop/sqoop/lib/parquet-encoding-1.4.1.jar as file:/home/hadoop/data/mapred/local/1475576058767/parquet-encoding-1.4.1.jar\n",
      "16/10/04 19:14:20 INFO mapred.LocalDistributedCacheManager: Creating symlink: /home/hadoop/data/mapred/local/1475576058768/parquet-jackson-1.4.1.jar <- /home/hadoop/parquet-jackson-1.4.1.jar\n",
      "16/10/04 19:14:20 INFO mapred.LocalDistributedCacheManager: Localized file:/home/hadoop/sqoop/lib/parquet-jackson-1.4.1.jar as file:/home/hadoop/data/mapred/local/1475576058768/parquet-jackson-1.4.1.jar\n",
      "16/10/04 19:14:20 INFO mapred.LocalDistributedCacheManager: Creating symlink: /home/hadoop/data/mapred/local/1475576058769/sqoop-1.4.6.jar <- /home/hadoop/sqoop-1.4.6.jar\n",
      "16/10/04 19:14:20 INFO mapred.LocalDistributedCacheManager: Localized file:/home/hadoop/sqoop-1.4.6.bin__hadoop-2.0.4-alpha/sqoop-1.4.6.jar as file:/home/hadoop/data/mapred/local/1475576058769/sqoop-1.4.6.jar\n",
      "16/10/04 19:14:20 INFO mapred.LocalDistributedCacheManager: Creating symlink: /home/hadoop/data/mapred/local/1475576058770/avro-1.7.5.jar <- /home/hadoop/avro-1.7.5.jar\n",
      "16/10/04 19:14:20 INFO mapred.LocalDistributedCacheManager: Localized file:/home/hadoop/sqoop/lib/avro-1.7.5.jar as file:/home/hadoop/data/mapred/local/1475576058770/avro-1.7.5.jar\n",
      "16/10/04 19:14:20 INFO mapred.LocalDistributedCacheManager: Creating symlink: /home/hadoop/data/mapred/local/1475576058771/jackson-core-2.3.1.jar <- /home/hadoop/jackson-core-2.3.1.jar\n",
      "16/10/04 19:14:20 INFO mapred.LocalDistributedCacheManager: Localized file:/home/hadoop/sqoop/lib/jackson-core-2.3.1.jar as file:/home/hadoop/data/mapred/local/1475576058771/jackson-core-2.3.1.jar\n",
      "16/10/04 19:14:20 INFO mapred.LocalDistributedCacheManager: Creating symlink: /home/hadoop/data/mapred/local/1475576058772/jackson-mapper-asl-1.9.13.jar <- /home/hadoop/jackson-mapper-asl-1.9.13.jar\n",
      "16/10/04 19:14:20 INFO mapred.LocalDistributedCacheManager: Localized file:/home/hadoop/sqoop/lib/jackson-mapper-asl-1.9.13.jar as file:/home/hadoop/data/mapred/local/1475576058772/jackson-mapper-asl-1.9.13.jar\n",
      "16/10/04 19:14:20 INFO mapred.LocalDistributedCacheManager: Creating symlink: /home/hadoop/data/mapred/local/1475576058773/kite-data-hive-1.0.0.jar <- /home/hadoop/kite-data-hive-1.0.0.jar\n",
      "16/10/04 19:14:20 INFO mapred.LocalDistributedCacheManager: Localized file:/home/hadoop/sqoop/lib/kite-data-hive-1.0.0.jar as file:/home/hadoop/data/mapred/local/1475576058773/kite-data-hive-1.0.0.jar\n",
      "16/10/04 19:14:20 INFO mapred.LocalDistributedCacheManager: Creating symlink: /home/hadoop/data/mapred/local/1475576058774/opencsv-2.3.jar <- /home/hadoop/opencsv-2.3.jar\n",
      "16/10/04 19:14:20 INFO mapred.LocalDistributedCacheManager: Localized file:/home/hadoop/sqoop/lib/opencsv-2.3.jar as file:/home/hadoop/data/mapred/local/1475576058774/opencsv-2.3.jar\n",
      "16/10/04 19:14:20 INFO mapred.LocalDistributedCacheManager: Creating symlink: /home/hadoop/data/mapred/local/1475576058775/avro-mapred-1.7.5-hadoop2.jar <- /home/hadoop/avro-mapred-1.7.5-hadoop2.jar\n",
      "16/10/04 19:14:20 INFO mapred.LocalDistributedCacheManager: Localized file:/home/hadoop/sqoop/lib/avro-mapred-1.7.5-hadoop2.jar as file:/home/hadoop/data/mapred/local/1475576058775/avro-mapred-1.7.5-hadoop2.jar\n",
      "16/10/04 19:14:20 INFO mapred.LocalDistributedCacheManager: Creating symlink: /home/hadoop/data/mapred/local/1475576058776/parquet-format-2.0.0.jar <- /home/hadoop/parquet-format-2.0.0.jar\n",
      "16/10/04 19:14:20 INFO mapred.LocalDistributedCacheManager: Localized file:/home/hadoop/sqoop/lib/parquet-format-2.0.0.jar as file:/home/hadoop/data/mapred/local/1475576058776/parquet-format-2.0.0.jar\n",
      "16/10/04 19:14:20 INFO mapred.LocalDistributedCacheManager: Creating symlink: /home/hadoop/data/mapred/local/1475576058777/slf4j-api-1.6.1.jar <- /home/hadoop/slf4j-api-1.6.1.jar\n",
      "16/10/04 19:14:20 INFO mapred.LocalDistributedCacheManager: Localized file:/home/hadoop/sqoop/lib/slf4j-api-1.6.1.jar as file:/home/hadoop/data/mapred/local/1475576058777/slf4j-api-1.6.1.jar\n",
      "16/10/04 19:14:20 INFO mapred.LocalDistributedCacheManager: Creating symlink: /home/hadoop/data/mapred/local/1475576058778/jackson-databind-2.3.1.jar <- /home/hadoop/jackson-databind-2.3.1.jar\n",
      "16/10/04 19:14:20 INFO mapred.LocalDistributedCacheManager: Localized file:/home/hadoop/sqoop/lib/jackson-databind-2.3.1.jar as file:/home/hadoop/data/mapred/local/1475576058778/jackson-databind-2.3.1.jar\n",
      "16/10/04 19:14:20 INFO mapred.LocalDistributedCacheManager: Creating symlink: /home/hadoop/data/mapred/local/1475576058779/kite-data-core-1.0.0.jar <- /home/hadoop/kite-data-core-1.0.0.jar\n",
      "16/10/04 19:14:20 INFO mapred.LocalDistributedCacheManager: Localized file:/home/hadoop/sqoop/lib/kite-data-core-1.0.0.jar as file:/home/hadoop/data/mapred/local/1475576058779/kite-data-core-1.0.0.jar\n",
      "16/10/04 19:14:20 INFO mapred.LocalDistributedCacheManager: Creating symlink: /home/hadoop/data/mapred/local/1475576058780/ant-contrib-1.0b3.jar <- /home/hadoop/ant-contrib-1.0b3.jar\n",
      "16/10/04 19:14:20 INFO mapred.LocalDistributedCacheManager: Localized file:/home/hadoop/sqoop/lib/ant-contrib-1.0b3.jar as file:/home/hadoop/data/mapred/local/1475576058780/ant-contrib-1.0b3.jar\n",
      "16/10/04 19:14:20 INFO mapred.LocalDistributedCacheManager: Creating symlink: /home/hadoop/data/mapred/local/1475576058781/jackson-core-asl-1.9.13.jar <- /home/hadoop/jackson-core-asl-1.9.13.jar\n",
      "16/10/04 19:14:20 INFO mapred.LocalDistributedCacheManager: Localized file:/home/hadoop/sqoop/lib/jackson-core-asl-1.9.13.jar as file:/home/hadoop/data/mapred/local/1475576058781/jackson-core-asl-1.9.13.jar\n",
      "16/10/04 19:14:20 INFO mapred.LocalDistributedCacheManager: Creating symlink: /home/hadoop/data/mapred/local/1475576058782/ant-eclipse-1.0-jvm1.2.jar <- /home/hadoop/ant-eclipse-1.0-jvm1.2.jar\n",
      "16/10/04 19:14:20 INFO mapred.LocalDistributedCacheManager: Localized file:/home/hadoop/sqoop/lib/ant-eclipse-1.0-jvm1.2.jar as file:/home/hadoop/data/mapred/local/1475576058782/ant-eclipse-1.0-jvm1.2.jar\n",
      "16/10/04 19:14:20 INFO mapred.LocalDistributedCacheManager: Creating symlink: /home/hadoop/data/mapred/local/1475576058783/commons-compress-1.4.1.jar <- /home/hadoop/commons-compress-1.4.1.jar\n",
      "16/10/04 19:14:20 INFO mapred.LocalDistributedCacheManager: Localized file:/home/hadoop/sqoop/lib/commons-compress-1.4.1.jar as file:/home/hadoop/data/mapred/local/1475576058783/commons-compress-1.4.1.jar\n",
      "16/10/04 19:14:20 INFO mapred.LocalDistributedCacheManager: Creating symlink: /home/hadoop/data/mapred/local/1475576058784/parquet-hadoop-1.4.1.jar <- /home/hadoop/parquet-hadoop-1.4.1.jar\n",
      "16/10/04 19:14:20 INFO mapred.LocalDistributedCacheManager: Localized file:/home/hadoop/sqoop/lib/parquet-hadoop-1.4.1.jar as file:/home/hadoop/data/mapred/local/1475576058784/parquet-hadoop-1.4.1.jar\n",
      "16/10/04 19:14:20 INFO mapred.LocalDistributedCacheManager: Creating symlink: /home/hadoop/data/mapred/local/1475576058785/commons-codec-1.4.jar <- /home/hadoop/commons-codec-1.4.jar\n",
      "16/10/04 19:14:20 INFO mapred.LocalDistributedCacheManager: Localized file:/home/hadoop/sqoop/lib/commons-codec-1.4.jar as file:/home/hadoop/data/mapred/local/1475576058785/commons-codec-1.4.jar\n",
      "16/10/04 19:14:20 INFO mapred.LocalDistributedCacheManager: Creating symlink: /home/hadoop/data/mapred/local/1475576058786/kite-data-mapreduce-1.0.0.jar <- /home/hadoop/kite-data-mapreduce-1.0.0.jar\n",
      "16/10/04 19:14:20 INFO mapred.LocalDistributedCacheManager: Localized file:/home/hadoop/sqoop/lib/kite-data-mapreduce-1.0.0.jar as file:/home/hadoop/data/mapred/local/1475576058786/kite-data-mapreduce-1.0.0.jar\n",
      "16/10/04 19:14:20 INFO mapred.LocalDistributedCacheManager: Creating symlink: /home/hadoop/data/mapred/local/1475576058787/jackson-annotations-2.3.0.jar <- /home/hadoop/jackson-annotations-2.3.0.jar\n",
      "16/10/04 19:14:20 INFO mapred.LocalDistributedCacheManager: Localized file:/home/hadoop/sqoop/lib/jackson-annotations-2.3.0.jar as file:/home/hadoop/data/mapred/local/1475576058787/jackson-annotations-2.3.0.jar\n",
      "16/10/04 19:14:20 INFO mapred.LocalDistributedCacheManager: Creating symlink: /home/hadoop/data/mapred/local/1475576058788/parquet-column-1.4.1.jar <- /home/hadoop/parquet-column-1.4.1.jar\n",
      "16/10/04 19:14:20 INFO mapred.LocalDistributedCacheManager: Localized file:/home/hadoop/sqoop/lib/parquet-column-1.4.1.jar as file:/home/hadoop/data/mapred/local/1475576058788/parquet-column-1.4.1.jar\n",
      "16/10/04 19:14:20 INFO mapred.LocalDistributedCacheManager: Creating symlink: /home/hadoop/data/mapred/local/1475576058789/commons-io-1.4.jar <- /home/hadoop/commons-io-1.4.jar\n",
      "16/10/04 19:14:20 INFO mapred.LocalDistributedCacheManager: Localized file:/home/hadoop/sqoop/lib/commons-io-1.4.jar as file:/home/hadoop/data/mapred/local/1475576058789/commons-io-1.4.jar\n",
      "16/10/04 19:14:20 INFO mapred.LocalDistributedCacheManager: Creating symlink: /home/hadoop/data/mapred/local/1475576058790/commons-logging-1.1.1.jar <- /home/hadoop/commons-logging-1.1.1.jar\n",
      "16/10/04 19:14:20 INFO mapred.LocalDistributedCacheManager: Localized file:/home/hadoop/sqoop/lib/commons-logging-1.1.1.jar as file:/home/hadoop/data/mapred/local/1475576058790/commons-logging-1.1.1.jar\n",
      "16/10/04 19:14:20 INFO mapred.LocalDistributedCacheManager: Creating symlink: /home/hadoop/data/mapred/local/1475576058791/paranamer-2.3.jar <- /home/hadoop/paranamer-2.3.jar\n",
      "16/10/04 19:14:20 INFO mapred.LocalDistributedCacheManager: Localized file:/home/hadoop/sqoop/lib/paranamer-2.3.jar as file:/home/hadoop/data/mapred/local/1475576058791/paranamer-2.3.jar\n",
      "16/10/04 19:14:20 INFO mapred.LocalDistributedCacheManager: Creating symlink: /home/hadoop/data/mapred/local/1475576058792/xz-1.0.jar <- /home/hadoop/xz-1.0.jar\n",
      "16/10/04 19:14:20 INFO mapred.LocalDistributedCacheManager: Localized file:/home/hadoop/sqoop/lib/xz-1.0.jar as file:/home/hadoop/data/mapred/local/1475576058792/xz-1.0.jar\n",
      "16/10/04 19:14:20 INFO mapred.LocalDistributedCacheManager: Creating symlink: /home/hadoop/data/mapred/local/1475576058793/parquet-generator-1.4.1.jar <- /home/hadoop/parquet-generator-1.4.1.jar\n",
      "16/10/04 19:14:20 INFO mapred.LocalDistributedCacheManager: Localized file:/home/hadoop/sqoop/lib/parquet-generator-1.4.1.jar as file:/home/hadoop/data/mapred/local/1475576058793/parquet-generator-1.4.1.jar\n",
      "16/10/04 19:14:20 INFO mapred.LocalDistributedCacheManager: Creating symlink: /home/hadoop/data/mapred/local/1475576058794/snappy-java-1.0.5.jar <- /home/hadoop/snappy-java-1.0.5.jar\n",
      "16/10/04 19:14:20 INFO mapred.LocalDistributedCacheManager: Localized file:/home/hadoop/sqoop/lib/snappy-java-1.0.5.jar as file:/home/hadoop/data/mapred/local/1475576058794/snappy-java-1.0.5.jar\n",
      "16/10/04 19:14:20 INFO mapred.LocalDistributedCacheManager: file:/home/hadoop/data/mapred/local/1475576058761/hsqldb-1.8.0.10.jar\n",
      "16/10/04 19:14:20 INFO mapred.LocalDistributedCacheManager: file:/home/hadoop/data/mapred/local/1475576058762/mysql-connector-java-5.1.39-bin.jar\n",
      "16/10/04 19:14:20 INFO mapred.LocalDistributedCacheManager: file:/home/hadoop/data/mapred/local/1475576058763/parquet-common-1.4.1.jar\n",
      "16/10/04 19:14:20 INFO mapred.LocalDistributedCacheManager: file:/home/hadoop/data/mapred/local/1475576058764/parquet-avro-1.4.1.jar\n",
      "16/10/04 19:14:20 INFO mapred.LocalDistributedCacheManager: file:/home/hadoop/data/mapred/local/1475576058765/commons-jexl-2.1.1.jar\n",
      "16/10/04 19:14:20 INFO mapred.LocalDistributedCacheManager: file:/home/hadoop/data/mapred/local/1475576058766/kite-hadoop-compatibility-1.0.0.jar\n",
      "16/10/04 19:14:20 INFO mapred.LocalDistributedCacheManager: file:/home/hadoop/data/mapred/local/1475576058767/parquet-encoding-1.4.1.jar\n",
      "16/10/04 19:14:20 INFO mapred.LocalDistributedCacheManager: file:/home/hadoop/data/mapred/local/1475576058768/parquet-jackson-1.4.1.jar\n",
      "16/10/04 19:14:20 INFO mapred.LocalDistributedCacheManager: file:/home/hadoop/data/mapred/local/1475576058769/sqoop-1.4.6.jar\n",
      "16/10/04 19:14:20 INFO mapred.LocalDistributedCacheManager: file:/home/hadoop/data/mapred/local/1475576058770/avro-1.7.5.jar\n",
      "16/10/04 19:14:20 INFO mapred.LocalDistributedCacheManager: file:/home/hadoop/data/mapred/local/1475576058771/jackson-core-2.3.1.jar\n",
      "16/10/04 19:14:20 INFO mapred.LocalDistributedCacheManager: file:/home/hadoop/data/mapred/local/1475576058772/jackson-mapper-asl-1.9.13.jar\n",
      "16/10/04 19:14:20 INFO mapred.LocalDistributedCacheManager: file:/home/hadoop/data/mapred/local/1475576058773/kite-data-hive-1.0.0.jar\n",
      "16/10/04 19:14:20 INFO mapred.LocalDistributedCacheManager: file:/home/hadoop/data/mapred/local/1475576058774/opencsv-2.3.jar\n",
      "16/10/04 19:14:20 INFO mapred.LocalDistributedCacheManager: file:/home/hadoop/data/mapred/local/1475576058775/avro-mapred-1.7.5-hadoop2.jar\n",
      "16/10/04 19:14:20 INFO mapred.LocalDistributedCacheManager: file:/home/hadoop/data/mapred/local/1475576058776/parquet-format-2.0.0.jar\n",
      "16/10/04 19:14:20 INFO mapred.LocalDistributedCacheManager: file:/home/hadoop/data/mapred/local/1475576058777/slf4j-api-1.6.1.jar\n",
      "16/10/04 19:14:20 INFO mapred.LocalDistributedCacheManager: file:/home/hadoop/data/mapred/local/1475576058778/jackson-databind-2.3.1.jar\n",
      "16/10/04 19:14:20 INFO mapred.LocalDistributedCacheManager: file:/home/hadoop/data/mapred/local/1475576058779/kite-data-core-1.0.0.jar\n",
      "16/10/04 19:14:20 INFO mapred.LocalDistributedCacheManager: file:/home/hadoop/data/mapred/local/1475576058780/ant-contrib-1.0b3.jar\n",
      "16/10/04 19:14:20 INFO mapred.LocalDistributedCacheManager: file:/home/hadoop/data/mapred/local/1475576058781/jackson-core-asl-1.9.13.jar\n",
      "16/10/04 19:14:20 INFO mapred.LocalDistributedCacheManager: file:/home/hadoop/data/mapred/local/1475576058782/ant-eclipse-1.0-jvm1.2.jar\n",
      "16/10/04 19:14:20 INFO mapred.LocalDistributedCacheManager: file:/home/hadoop/data/mapred/local/1475576058783/commons-compress-1.4.1.jar\n",
      "16/10/04 19:14:20 INFO mapred.LocalDistributedCacheManager: file:/home/hadoop/data/mapred/local/1475576058784/parquet-hadoop-1.4.1.jar\n",
      "16/10/04 19:14:20 INFO mapred.LocalDistributedCacheManager: file:/home/hadoop/data/mapred/local/1475576058785/commons-codec-1.4.jar\n",
      "16/10/04 19:14:20 INFO mapred.LocalDistributedCacheManager: file:/home/hadoop/data/mapred/local/1475576058786/kite-data-mapreduce-1.0.0.jar\n",
      "16/10/04 19:14:20 INFO mapred.LocalDistributedCacheManager: file:/home/hadoop/data/mapred/local/1475576058787/jackson-annotations-2.3.0.jar\n",
      "16/10/04 19:14:20 INFO mapred.LocalDistributedCacheManager: file:/home/hadoop/data/mapred/local/1475576058788/parquet-column-1.4.1.jar\n",
      "16/10/04 19:14:20 INFO mapred.LocalDistributedCacheManager: file:/home/hadoop/data/mapred/local/1475576058789/commons-io-1.4.jar\n",
      "16/10/04 19:14:20 INFO mapred.LocalDistributedCacheManager: file:/home/hadoop/data/mapred/local/1475576058790/commons-logging-1.1.1.jar\n",
      "16/10/04 19:14:20 INFO mapred.LocalDistributedCacheManager: file:/home/hadoop/data/mapred/local/1475576058791/paranamer-2.3.jar\n",
      "16/10/04 19:14:20 INFO mapred.LocalDistributedCacheManager: file:/home/hadoop/data/mapred/local/1475576058792/xz-1.0.jar\n",
      "16/10/04 19:14:20 INFO mapred.LocalDistributedCacheManager: file:/home/hadoop/data/mapred/local/1475576058793/parquet-generator-1.4.1.jar\n",
      "16/10/04 19:14:20 INFO mapred.LocalDistributedCacheManager: file:/home/hadoop/data/mapred/local/1475576058794/snappy-java-1.0.5.jar\n",
      "16/10/04 19:14:20 INFO mapreduce.Job: The url to track the job: http://localhost:8080/\n",
      "16/10/04 19:14:20 INFO mapreduce.Job: Running job: job_local1005991073_0001\n",
      "16/10/04 19:14:20 INFO mapred.LocalJobRunner: OutputCommitter set in config null\n",
      "16/10/04 19:14:20 INFO mapred.LocalJobRunner: OutputCommitter is org.apache.sqoop.mapreduce.NullOutputCommitter\n",
      "16/10/04 19:14:20 INFO mapred.LocalJobRunner: Waiting for map tasks\n",
      "16/10/04 19:14:20 INFO mapred.LocalJobRunner: Starting task: attempt_local1005991073_0001_m_000000_0\n",
      "16/10/04 19:14:20 INFO mapred.Task:  Using ResourceCalculatorProcessTree : [ ]\n",
      "16/10/04 19:14:20 INFO mapred.MapTask: Processing split: Paths:/output/result_datas/user1_result/part-00000:0+546\n",
      "16/10/04 19:14:20 INFO Configuration.deprecation: map.input.file is deprecated. Instead, use mapreduce.map.input.file\n",
      "16/10/04 19:14:20 INFO Configuration.deprecation: map.input.start is deprecated. Instead, use mapreduce.map.input.start\n",
      "16/10/04 19:14:20 INFO Configuration.deprecation: map.input.length is deprecated. Instead, use mapreduce.map.input.length\n",
      "16/10/04 19:14:20 INFO mapreduce.AutoProgressMapper: Auto-progress thread is finished. keepGoing=false\n",
      "16/10/04 19:14:20 INFO mapred.LocalJobRunner: \n",
      "16/10/04 19:14:20 INFO mapred.Task: Task:attempt_local1005991073_0001_m_000000_0 is done. And is in the process of committing\n",
      "16/10/04 19:14:20 INFO mapred.LocalJobRunner: map\n",
      "16/10/04 19:14:20 INFO mapred.Task: Task 'attempt_local1005991073_0001_m_000000_0' done.\n",
      "16/10/04 19:14:20 INFO mapred.LocalJobRunner: Finishing task: attempt_local1005991073_0001_m_000000_0\n",
      "16/10/04 19:14:20 INFO mapred.LocalJobRunner: map task executor complete.\n",
      "16/10/04 19:14:21 INFO mapreduce.Job: Job job_local1005991073_0001 running in uber mode : false\n",
      "16/10/04 19:14:21 INFO mapreduce.Job:  map 100% reduce 0%\n",
      "16/10/04 19:14:21 INFO mapreduce.Job: Job job_local1005991073_0001 completed successfully\n",
      "16/10/04 19:14:21 INFO mapreduce.Job: Counters: 20\n",
      "\tFile System Counters\n",
      "\t\tFILE: Number of bytes read=18050033\n",
      "\t\tFILE: Number of bytes written=18489448\n",
      "\t\tFILE: Number of read operations=0\n",
      "\t\tFILE: Number of large read operations=0\n",
      "\t\tFILE: Number of write operations=0\n",
      "\t\tHDFS: Number of bytes read=552\n",
      "\t\tHDFS: Number of bytes written=0\n",
      "\t\tHDFS: Number of read operations=9\n",
      "\t\tHDFS: Number of large read operations=0\n",
      "\t\tHDFS: Number of write operations=0\n",
      "\tMap-Reduce Framework\n",
      "\t\tMap input records=25\n",
      "\t\tMap output records=25\n",
      "\t\tInput split bytes=152\n",
      "\t\tSpilled Records=0\n",
      "\t\tFailed Shuffles=0\n",
      "\t\tMerged Map outputs=0\n",
      "\t\tGC time elapsed (ms)=3\n",
      "\t\tTotal committed heap usage (bytes)=59072512\n",
      "\tFile Input Format Counters \n",
      "\t\tBytes Read=0\n",
      "\tFile Output Format Counters \n",
      "\t\tBytes Written=0\n",
      "16/10/04 19:14:21 INFO mapreduce.ExportJobBase: Transferred 552 bytes in 3.7253 seconds (148.1757 bytes/sec)\n",
      "16/10/04 19:14:21 INFO mapreduce.ExportJobBase: Exported 25 records.\n"
     ]
    }
   ],
   "source": [
    "#sqoop을 활용하여 recommend_result 테이블에 추천결과저장\n",
    "!sqoop export --connect jdbc:mysql://localhost/appingpot_db --driver com.mysql.jdbc.Driver --table recommend_result -m 1 --export-dir /output/result_datas/user1_result/part-00000 --columns userID,packageId,rating --input-fields-terminated-by ',' --input-lines-terminated-by \"\\n\""
   ]
  },
  {
   "cell_type": "code",
   "execution_count": null,
   "metadata": {
    "collapsed": true
   },
   "outputs": [],
   "source": []
  }
 ],
 "metadata": {
  "kernelspec": {
   "display_name": "Python [py27]",
   "language": "python",
   "name": "Python [py27]"
  },
  "language_info": {
   "codemirror_mode": {
    "name": "ipython",
    "version": 2
   },
   "file_extension": ".py",
   "mimetype": "text/x-python",
   "name": "python",
   "nbconvert_exporter": "python",
   "pygments_lexer": "ipython2",
   "version": "2.7.12"
  }
 },
 "nbformat": 4,
 "nbformat_minor": 0
}
